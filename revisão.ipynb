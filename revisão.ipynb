{
 "cells": [
  {
   "cell_type": "markdown",
   "metadata": {},
   "source": [
    "# exercicio 1\n",
    "Faça um Programa que peça as 4 notas bimestrais e mostre a média."
   ]
  },
  {
   "cell_type": "code",
   "execution_count": 6,
   "metadata": {},
   "outputs": [
    {
     "name": "stdout",
     "output_type": "stream",
     "text": [
      "Digite a nota corretamente\n",
      "Você foi reprovado\n"
     ]
    }
   ],
   "source": [
    "try:\n",
    "\n",
    "    n1=int(input(\"Digite a nota do primeiro bimestre\"))\n",
    "    n2=int(input(\"Digite a nota do segundo bimestre\"))\n",
    "    n3=int(input(\"Digite a nota do segundo bimestre\"))\n",
    "    n4=int(input(\"Digite a nota do segundo bimestre\"))\n",
    "except ValueError as vc:\n",
    "    print(\"Digite a nota corretamente\")\n",
    "\n",
    "def calcular_media(n1,n2,n3,n4):\n",
    "    try:\n",
    "        media =  (n1+n2+n3+n4)/4\n",
    "\n",
    "        if (media>6):        \n",
    "            print(\"Você foi aprovado parabêns\")\n",
    "\n",
    "        else:\n",
    "            print(\"Você foi reprovado\")\n",
    "\n",
    "    except ValueError as vc:\n",
    "        print(\"Deu ruim\")\n",
    "    \n",
    "calcular_media(n1,n2,n3,n4)\n",
    "\n",
    "    \n"
   ]
  },
  {
   "cell_type": "markdown",
   "metadata": {},
   "source": [
    "# Exercício 2\n",
    "\n",
    "Faça um Programa que calcule a área de um quadrado, em seguida mostre o dobro desta área para o usuário."
   ]
  },
  {
   "cell_type": "code",
   "execution_count": 9,
   "metadata": {},
   "outputs": [
    {
     "name": "stdout",
     "output_type": "stream",
     "text": [
      "<function area_do_quadrado at 0x000001F9B6116168>\n"
     ]
    }
   ],
   "source": [
    "\"\"\" def area_do_quadrado(a,b):\n",
    " area=a*b\n",
    " print(f\"Area do quadrado é :{area}\")\n",
    "b = int(input(\"Digite a medida da base do quadrado\"))\n",
    "a = int(input(\"Digite a altura do quadrado\"))\n",
    "\n",
    "print(area_do_quadrado) \"\"\"\n",
    "\n",
    "def area(a,b):\n",
    "    formula = \n",
    "    print(f\"sua média é : {soma}\")\n",
    "\n",
    "n1 = int(input(\"Digite um numero : \"))\n",
    "n2 = int(input(\"Digite um numero : \"))\n",
    "n3 = int(input(\"Digite um numero : \"))\n",
    "num(n1,n2,n3)"
   ]
  },
  {
   "cell_type": "markdown",
   "metadata": {},
   "source": [
    "# Exercício 3\n",
    "\n",
    "João Papo-de-Pescador, homem de bem, comprou um microcomputador para controlar o rendimento diário de seu trabalho. Toda vez que ele traz um peso de peixes maior que o estabelecido pelo regulamento de pesca do estado de São Paulo (50 quilos) deve pagar uma multa de R$ 4,00 por quilo excedente. João precisa que você faça um programa que leia a variável  (peso de peixes) e calcule o excesso. Gravar na variável  a quantidade de quilos além do limite e na variável  o valor da multa que João deverá pagar. Imprima os dados do programa com as mensagens adequadas.\n"
   ]
  },
  {
   "cell_type": "code",
   "execution_count": 19,
   "metadata": {},
   "outputs": [
    {
     "name": "stdout",
     "output_type": "stream",
     "text": [
      "Você excedeu o limite em 3.00 quilos.\n",
      "A multa a ser paga é de R$12.00.\n"
     ]
    }
   ],
   "source": [
    "peso_de_peixes = float(input(\"Informe o peso de peixes pescados em quilos: \"))\n",
    "\n",
    "# Verifica se houve excesso de peso em relação ao limite (50 quilos)\n",
    "limite = 50  # Limite estabelecido pelo regulamento\n",
    "excesso = max(0, peso_de_peixes - limite)  # Calcula o excesso, se houver\n",
    "multa = excesso * 4  # Calcula o valor da multa (R$ 4,00 por quilo excedente)\n",
    "\n",
    "# Verifica se houve excesso e exibe as informações\n",
    "if excesso > 0:\n",
    "    print(f\"Você excedeu o limite em {excesso:.2f} quilos.\")\n",
    "    print(f\"A multa a ser paga é de R${multa:.2f}.\")\n",
    "else:\n",
    "    print(\"Você não excedeu o limite de peso de peixes. Nenhuma multa é devida.\")"
   ]
  },
  {
   "cell_type": "markdown",
   "metadata": {},
   "source": [
    "# Exercício 4\n",
    "\n",
    "Faça um programa para uma loja de tintas. O programa deverá pedir o tamanho em metros quadrados da área a ser pintada. Considere que a cobertura da tinta é de 1 litro para cada 3 metros quadrados e que a tinta é vendida em latas de 18 litros, que custam R$ 80,00. Informe ao usuário a quantidades de latas de tinta a serem compradas e o preço total."
   ]
  },
  {
   "cell_type": "code",
   "execution_count": 34,
   "metadata": {},
   "outputs": [
    {
     "name": "stdout",
     "output_type": "stream",
     "text": [
      "É Necessario comprar :972.00latas\n",
      "E o valor é de :77760\n"
     ]
    }
   ],
   "source": [
    "\"\"\" 1L = 3 metros \"\"\"\n",
    "\"\"\" metros = int(input(\"Quantos metros quadrados vão ser pintados ?\"))\n",
    "def metros_pintados():\n",
    "    lata = 3\n",
    "    cobertura de litro = 3    \n",
    "    latas = metros * lata\n",
    "    preco = latas * 80\n",
    "    print(f\"É Necessario comprar :{latas:.2f}latas\" )\n",
    "    print(f\"E o valor é de :{preco}\")\n",
    "metros_pintados() \"\"\"\n",
    "\n",
    "\n",
    "\n",
    "cobertura_por_litro = 3  # metros quadrados\n",
    "litros_por_lata = 18\n",
    "preco_por_lata = 80.00\n",
    "\n",
    "# Obtendo o tamanho da área a ser pintada do usuário\n",
    "area_a_pintar = float(input(\"Digite o tamanho da área a ser pintada em metros quadrados: \"))\n",
    "\n",
    "# Calculando a quantidade de litros necessários\n",
    "litros_necessarios = area_a_pintar / cobertura_por_litro\n",
    "\n",
    "# Calculando a quantidade de latas necessárias (arredondando para cima)\n",
    "latas_necessarias =(litros_necessarios / litros_por_lata)\n",
    "\n",
    "# Calculando o preço total\n",
    "preco_total = latas_necessarias * preco_por_lata\n",
    "\n",
    "# Mostrando os resultados ao usuário\n",
    "print(f\"Você precisará de {latas_necessarias} latas de tinta.\")\n",
    "print(f\"O preço total será: R$ {preco_total:.2f}\")\n",
    "\n"
   ]
  },
  {
   "cell_type": "markdown",
   "metadata": {},
   "source": [
    "# Exercício 5 \n",
    "\n",
    "Desenvolva um gerador de tabuada, capaz de gerar a tabuada de qualquer número inteiro entre 1 a 10. O usuário deve informar de qual numero ele deseja ver a tabuada. A saída deve ser conforme o exemplo abaixo:\n",
    "Tabuada de 5: \n",
    "5 X 1 = 5 \n",
    "5 X 2 = 10 \n",
    "... \n",
    "5 X 10 = 50"
   ]
  },
  {
   "cell_type": "code",
   "execution_count": null,
   "metadata": {},
   "outputs": [],
   "source": []
  },
  {
   "cell_type": "markdown",
   "metadata": {},
   "source": [
    "# Exercício 6\n",
    "\n",
    "(Laço)O Sr. Manoel Joaquim expandiu seus negócios para além dos negócios de 1,99 e agora possui uma loja de conveniências. Faça um programa que implemente uma caixa registradora rudimentar. O programa deverá receber um número desconhecido de valores referentes aos preços das mercadorias. Um valor zero deve ser informado pelo operador para indicar o final da compra. O programa deve então mostrar o total da compra e perguntar o valor em dinheiro que o cliente forneceu, para então calcular e mostrar o valor do troco. Após esta operação, o programa deverá voltar ao ponto inicial, para registrar a próxima compra. A saída deve ser conforme o exemplo abaixo:\n",
    "Lojas Tabajara \n",
    "Produto 1: R$ 2.20 \n",
    "Produto 2: R$ 5.80 \n",
    "Produto 3: R$ 0 \n",
    "Total: R$ 9.00 \n",
    "Dinheiro: R$ 20.00 \n",
    "Troco: R$ 11.00 \n",
    "..."
   ]
  },
  {
   "cell_type": "code",
   "execution_count": null,
   "metadata": {},
   "outputs": [],
   "source": []
  },
  {
   "cell_type": "markdown",
   "metadata": {},
   "source": [
    "# Exercício 7\n",
    "\n",
    "Faça um programa com uma função chamada \"somaImposto\". A função possui dois parâmetros formais: \"taxaImposto\", que é a quantia de imposto sobre vendas expressa em porcentagem e custo, que é o custo de um item antes do imposto. A função “altera” o valor de custo para incluir o imposto sobre vendas."
   ]
  },
  {
   "cell_type": "code",
   "execution_count": null,
   "metadata": {},
   "outputs": [],
   "source": []
  },
  {
   "cell_type": "markdown",
   "metadata": {},
   "source": [
    "# Exercício 8\n",
    "\n",
    "(Lista) Faça um Programa que peça as quatro notas de 10 alunos, calcule e armazene num vetor a média de cada aluno, imprima o número de alunos com média maior ou igual a 7.0\n"
   ]
  },
  {
   "cell_type": "code",
   "execution_count": 35,
   "metadata": {},
   "outputs": [
    {
     "name": "stdout",
     "output_type": "stream",
     "text": [
      "7.4\n"
     ]
    }
   ],
   "source": [
    "import array as arr\n",
    "\n",
    "aluno1 = float(input(\"Digite suas notas dos Bimestres\"))\n",
    "aluno2 = float(input(\"Digite suas notas dos Bimestres\"))\n",
    "aluno3 = float(input(\"Digite suas notas dos Bimestres\"))\n",
    "aluno4 = float(input(\"Digite suas notas dos Bimestres\"))\n",
    "aluno5 = float(input(\"Digite suas notas dos Bimestres\"))\n",
    "aluno6 = float(input(\"Digite suas notas dos Bimestres\"))\n",
    "aluno7 = float(input(\"Digite suas notas dos Bimestres\"))\n",
    "aluno8 = float(input(\"Digite suas notas dos Bimestres\"))\n",
    "aluno9 = float(input(\"Digite suas notas dos Bimestres\"))\n",
    "aluno10 = float(input(\"Digite suas notas dos Bimestres\")) \n",
    "soma = sum(aluno1)\n",
    "print(soma/10)\n"
   ]
  },
  {
   "cell_type": "markdown",
   "metadata": {},
   "source": [
    "# Exercício 9 \n",
    "\n",
    "(vetor)Faça um Programa que leia um vetor A com 10 números inteiros, calcule e mostre a soma dos quadrados dos elementos do vetor."
   ]
  },
  {
   "cell_type": "code",
   "execution_count": null,
   "metadata": {},
   "outputs": [],
   "source": []
  },
  {
   "cell_type": "markdown",
   "metadata": {},
   "source": [
    "# Exercício 10\n",
    "\n",
    "Faça um programa que solicite o nome do usuário e imprima-o na vertical."
   ]
  },
  {
   "cell_type": "code",
   "execution_count": null,
   "metadata": {},
   "outputs": [],
   "source": []
  }
 ],
 "metadata": {
  "kernelspec": {
   "display_name": "Python 3",
   "language": "python",
   "name": "python3"
  },
  "language_info": {
   "codemirror_mode": {
    "name": "ipython",
    "version": 3
   },
   "file_extension": ".py",
   "mimetype": "text/x-python",
   "name": "python",
   "nbconvert_exporter": "python",
   "pygments_lexer": "ipython3",
   "version": "3.7.8"
  }
 },
 "nbformat": 4,
 "nbformat_minor": 2
}
