{
  "cells": [
    {
      "cell_type": "markdown",
      "metadata": {
        "id": "mlu-XKovTmi5"
      },
      "source": [
        "# Aula 5: Introdução à Linguagem de Programação Python\n",
        "Bem vindo ao Google Colaboratory!\n",
        "Nós iremos utilizar essa plataforma para fazer nossas atividades com o Python. Vamos fazer alguns testes?\n",
        "\n",
        "As funções Python servem para: Dividir e classificar o código em partes mais simples para depurar e programar com maior facilidade. Reutilizar o código, evitando repetições desnecessárias em um programa.\n",
        "\n",
        "# Criando funções no Python\n"
      ]
    },
    {
      "cell_type": "markdown",
      "metadata": {
        "id": "fgFMQiboT0zs"
      },
      "source": [
        "\n",
        "A sintaxe de uma função é definida por três partes: nome, parâmetros e corpo, o qual agrupa uma sequência de linhas que representa algum comportamento. No código abaixo, temos um exemplo de declaração de função em Python:"
      ]
    },
    {
      "cell_type": "code",
      "execution_count": 3,
      "metadata": {
        "colab": {
          "base_uri": "https://localhost:8080/"
        },
        "id": "cTD5nzA8Tl5y",
        "outputId": "f4aee6d5-5c9a-429b-9dc9-23defb050b88"
      },
      "outputs": [
        {
          "name": "stdout",
          "output_type": "stream",
          "text": [
            "Olá Oscar\n"
          ]
        }
      ],
      "source": [
        "meu_nome = \"Oscar\"\n",
        "def hello():\n",
        "  print('Olá',meu_nome)\n",
        "hello()"
      ]
    },
    {
      "cell_type": "markdown",
      "metadata": {
        "id": "RPtlF-HzVgNM"
      },
      "source": [
        "Para “chamar” uma função, utilizamos o nome que foi definido, dessa forma:"
      ]
    },
    {
      "cell_type": "code",
      "execution_count": 2,
      "metadata": {
        "colab": {
          "base_uri": "https://localhost:8080/"
        },
        "id": "tNScprPrVkdN",
        "outputId": "a4b5042e-0a90-4707-cb9e-195d1e5b309b"
      },
      "outputs": [
        {
          "name": "stdout",
          "output_type": "stream",
          "text": [
            "Olá \n"
          ]
        }
      ],
      "source": [
        "meu_nome = input(\"Digite seu nome : \")\n",
        "\n",
        "def nome():\n",
        "  print('Olá',meu_nome)\n",
        "\n",
        "nome()"
      ]
    },
    {
      "cell_type": "markdown",
      "metadata": {
        "id": "g4t3hxITVr48"
      },
      "source": [
        "# Parâmetros\n",
        "Além de executar código, funções também podem receber e retornar dados.\n",
        "\n",
        "Podemos enviar dados para uma função através de seus parâmetros.\n",
        "\n",
        "**Exemplo** 1:"
      ]
    },
    {
      "cell_type": "code",
      "execution_count": 1,
      "metadata": {
        "colab": {
          "base_uri": "https://localhost:8080/"
        },
        "id": "6i-4qFHtV6bq",
        "outputId": "b8b70398-5e82-4ea0-ff79-a0ae01679d03"
      },
      "outputs": [
        {
          "name": "stdout",
          "output_type": "stream",
          "text": [
            "Nome: Gustavo\n",
            "Nome: Jonatas\n",
            "Nome: Mateus\n"
          ]
        }
      ],
      "source": [
        "def imprime_nome(nome):\n",
        "    print(f\"Nome: {nome}\")\n",
        "\n",
        "\n",
        "imprime_nome(\"Gustavo\")\n",
        "imprime_nome(\"Jonatas\")\n",
        "imprime_nome(\"Mateus\")"
      ]
    },
    {
      "cell_type": "code",
      "execution_count": null,
      "metadata": {
        "colab": {
          "base_uri": "https://localhost:8080/"
        },
        "id": "aVwmbglOpnyq",
        "outputId": "d07a1ee9-7f39-4036-8803-e3f8e2e645e9"
      },
      "outputs": [
        {
          "name": "stdout",
          "output_type": "stream",
          "text": [
            "Olá Oscar\n"
          ]
        }
      ],
      "source": [
        "meu_nome = \"Oscar\"\n",
        "\n",
        "def nome(nome):\n",
        "  print('Olá',nome)\n",
        "\n",
        "nome(meu_nome)"
      ]
    },
    {
      "cell_type": "markdown",
      "metadata": {
        "id": "7f_RNZFTWHKf"
      },
      "source": [
        "Caso nenhum valor seja infomado ao chamar a função, um erro será gerado. Por exemplo, o seguinte código:\n",
        "\n",
        "**Exemplo** 02:"
      ]
    },
    {
      "cell_type": "code",
      "execution_count": 3,
      "metadata": {
        "colab": {
          "base_uri": "https://localhost:8080/",
          "height": 218
        },
        "id": "qJbYnr23WJ0D",
        "outputId": "358618d1-1f1c-4025-c8f5-978ea8be0fdb"
      },
      "outputs": [
        {
          "name": "stdout",
          "output_type": "stream",
          "text": [
            "Nome: Aula 5 Python\n"
          ]
        }
      ],
      "source": [
        "def imprime_nome(nome):\n",
        "    print(f\"Nome: {nome}\")\n",
        "\n",
        "imprime_nome(\"Aula 5 Python\")"
      ]
    },
    {
      "cell_type": "markdown",
      "metadata": {
        "id": "Ofg8uWsDXbkG"
      },
      "source": [
        "**Exemplo** 03"
      ]
    },
    {
      "cell_type": "code",
      "execution_count": 11,
      "metadata": {
        "colab": {
          "base_uri": "https://localhost:8080/"
        },
        "id": "Na1_-Z5AXhU9",
        "outputId": "9214427a-b17c-436a-95d9-ea92ba4d8359"
      },
      "outputs": [
        {
          "name": "stdout",
          "output_type": "stream",
          "text": [
            "30\n"
          ]
        }
      ],
      "source": [
        "# Criando a função:\n",
        "def dobrar(x):\n",
        "    print(x * 2)\n",
        "# Chamando a função criada:\n",
        "dobrar(15)"
      ]
    },
    {
      "cell_type": "markdown",
      "metadata": {
        "id": "jCcG22_5X2br"
      },
      "source": [
        "**Exemplo** 04:"
      ]
    },
    {
      "cell_type": "code",
      "execution_count": null,
      "metadata": {
        "colab": {
          "base_uri": "https://localhost:8080/"
        },
        "id": "dDV0S0GBX5YT",
        "outputId": "24d5b1b6-3b24-4ea3-deba-03bd930977fe"
      },
      "outputs": [
        {
          "name": "stdout",
          "output_type": "stream",
          "text": [
            "30\n",
            "60\n"
          ]
        }
      ],
      "source": [
        "# Criando a função:\n",
        "def dobrar(x):\n",
        "   x *= 2\n",
        "   return x\n",
        "# Chamando a função criada:\n",
        "a = dobrar(15)\n",
        "print(a)\n",
        "print(dobrar(30))"
      ]
    },
    {
      "cell_type": "markdown",
      "metadata": {
        "id": "nUZclqFi_BlW"
      },
      "source": [
        "# Exercício 01"
      ]
    },
    {
      "cell_type": "markdown",
      "metadata": {
        "id": "Wk8_izKN_Fjd"
      },
      "source": [
        "Faça um programa, com uma função que necessite de um argumento. A função retorna o valor de caractere ‘P’, se seu argumento for positivo, e ‘N’, se seu argumento for zero ou negativo."
      ]
    },
    {
      "cell_type": "code",
      "execution_count": 20,
      "metadata": {
        "id": "u2lnuaI6ABL1"
      },
      "outputs": [
        {
          "name": "stdout",
          "output_type": "stream",
          "text": [
            "Impar\n"
          ]
        }
      ],
      "source": [
        "def caractere(num):\n",
        "    if num%2==0:\n",
        "        return \"Par\"\n",
        "    else :\n",
        "        return \"Impar\"\n",
        "\n",
        "valor = caractere(int(input(\"Digite um numero : \")))\n",
        "print(valor)\n",
        "\n"
      ]
    },
    {
      "cell_type": "markdown",
      "metadata": {
        "id": "WEIhGZSjBVvs"
      },
      "source": [
        "# Exercício 02\n",
        "Desenvolva uma solução python que receba três números, e identifica o maior através de uma função e o menor número através de outra função"
      ]
    },
    {
      "cell_type": "code",
      "execution_count": 25,
      "metadata": {
        "id": "7W-OxQqtB1--"
      },
      "outputs": [
        {
          "name": "stdout",
          "output_type": "stream",
          "text": [
            "Maior 20\n",
            "Menor 10\n"
          ]
        }
      ],
      "source": [
        "#continuar o exercício/ encontrar o menor número\n",
        "\n",
        "def maior(n1,n2,n3):\n",
        "  if(n1 > n2 and n1 > n3):\n",
        "    n_maior = n1\n",
        "    print(f\"Maior {n_maior}\")\n",
        "  elif(n2 > n1 and n2 > n3):\n",
        "    n_maior = n2\n",
        "    print(f\"Maior {n_maior}\")\n",
        "  elif(n3 > n1 and n3 > n2):\n",
        "    n_maior = n3\n",
        "    print(f\"Maior {n_maior}\")\n",
        "\n",
        "n1 = int(input(\"digite o primeiro numero:\"))\n",
        "n2 = int(input(\"digite o segundo numero:\"))\n",
        "n3 = int(input(\"digite o terceiro numero:\"))\n",
        "\n",
        "maior(n1,n2,n3)\n",
        "\n",
        "\"\"\" Agora fazer para achar o menor \"\"\"\n",
        "\n",
        "def menor(n1,n2,n3):\n",
        "  if(n1 < n2 and n1 < n3):\n",
        "    n_menor = n1\n",
        "    print(f\"Menor {n_menor}\")\n",
        "  elif(n2 < n1 and n2 < n3):\n",
        "    n_menor = n2\n",
        "    print(f\"Menor {n_menor}\")\n",
        "  elif(n3 < n1 and n3 < n2):\n",
        "    n_menor = n3\n",
        "    print(f\"Menor {n_menor}\")\n",
        "\n",
        "n1 = int(input(\"digite o primeiro numero:\"))\n",
        "n2 = int(input(\"digite o segundo numero:\"))\n",
        "n3 = int(input(\"digite o terceiro numero:\"))\n",
        "\n",
        "menor(n1,n2,n3)"
      ]
    },
    {
      "cell_type": "markdown",
      "metadata": {
        "id": "9Ye_XUdgXNpX"
      },
      "source": [
        "# Exercício 03\n",
        "Faça um programa, com uma função que necessite de três argumentos, e que forneça a soma desses três argumentos."
      ]
    },
    {
      "cell_type": "code",
      "execution_count": 30,
      "metadata": {
        "id": "T7Wkgt4BXaPI"
      },
      "outputs": [
        {
          "name": "stdout",
          "output_type": "stream",
          "text": [
            "O resultado da soma é:6\n"
          ]
        }
      ],
      "source": [
        "def argumentos(a1,a2,a3):\n",
        "    soma = a1+a2+a3\n",
        "    print(f\"O resultado da soma é : {soma}\")\n",
        "\n",
        "a1 = int(input(\"Digite um numero : \"))\n",
        "a2 = int(input(\"Digite um numero : \"))\n",
        "a3 = int(input(\"Digite um numero : \"))\n",
        "argumentos(a1,a2,a3)"
      ]
    },
    {
      "cell_type": "markdown",
      "metadata": {
        "id": "1Q8rurW4wFyj"
      },
      "source": [
        "# Exercício 04\n",
        "Fazer uma função que recebe três\n",
        "argumentos, e que retorne a média\n",
        "desses três argumentos."
      ]
    },
    {
      "cell_type": "code",
      "execution_count": 38,
      "metadata": {
        "id": "n7xi2D1cwKng"
      },
      "outputs": [
        {
          "name": "stdout",
          "output_type": "stream",
          "text": [
            "sua média é : 10.0\n"
          ]
        }
      ],
      "source": [
        "def num(n1,n2,n3):\n",
        "    soma = (n1+n2+n3)/3\n",
        "    print(f\"sua média é : {soma}\")\n",
        "\n",
        "n1 = int(input(\"Digite um numero : \"))\n",
        "n2 = int(input(\"Digite um numero : \"))\n",
        "n3 = int(input(\"Digite um numero : \"))\n",
        "num(n1,n2,n3)"
      ]
    },
    {
      "cell_type": "markdown",
      "metadata": {
        "id": "Osdgcj1zwLcB"
      },
      "source": [
        "# Exercício 05\n",
        "\n",
        "Faça um app Python que chame uma Função de passe como parâmetro \"NOME\" e \"IDADE\"  e informe dentro da função se o a pessoa é Maior ou Menor.\n"
      ]
    },
    {
      "cell_type": "code",
      "execution_count": 56,
      "metadata": {
        "id": "kY26yb0Yu5CS"
      },
      "outputs": [
        {
          "name": "stdout",
          "output_type": "stream",
          "text": [
            "Gustavo você é Menor de idade\n"
          ]
        }
      ],
      "source": [
        "\"\"\" nome = input(\"Digite seu nome : \")\n",
        "idade = int(input(\"Digite sua idade\"))\n",
        "\n",
        "if idade < 18:\n",
        "    print(f\"Você é de menor {nome}\")\n",
        "else:\n",
        "    print(f\"Você é de maior {nome}\") \"\"\"\n",
        "\n",
        "\"\"\" Agora com função \"\"\"\n",
        "\n",
        "def dados(nome,idade):\n",
        "\n",
        "    if (idade >= 18):\n",
        "        return \"maior de idade\"\n",
        "    else:\n",
        "        return \"menor de idade\"\n",
        "\n",
        "nome = input(\"Digite seu nome : \")\n",
        "idade = int(input(\"Digite sua idade\"))\n",
        "\n",
        "print(nome +\" você é \"+dados(nome,idade))\n",
        "\n",
        "\n"
      ]
    },
    {
      "cell_type": "markdown",
      "metadata": {
        "id": "8lwiWUhRu50P"
      },
      "source": [
        "# Exerício 06\n",
        "Faça um aplicativo Python que chame uma função para calcular o reajuste de um salário. Se o salário foi maior que 5000 reais dar um reajuste de 10% e se for Menor que 5000 reais dar um reajuste de 15%."
      ]
    },
    {
      "cell_type": "code",
      "execution_count": null,
      "metadata": {
        "id": "n5EtXwy0vk2W"
      },
      "outputs": [],
      "source": [
        "def reajuste(s):\n",
        "    if (s > 5000):\n",
        "        s+=s*0.10\n",
        "        return s \n",
        "    else:\n",
        "        s+=s*0.15\n",
        "        return s\n",
        "\n",
        "salario=float(input(\"Digite seu salario\")) \n",
        "print(reajuste(sal))\n",
        "\n"
      ]
    },
    {
      "cell_type": "markdown",
      "metadata": {
        "id": "4cwlayeivjXG"
      },
      "source": [
        "# Exercício 07\n",
        "\n",
        "Faça uma lógica Python que  calcule a área de um triângulo passando os valores dos lados do triangulo através da função."
      ]
    },
    {
      "cell_type": "markdown",
      "metadata": {},
      "source": []
    },
    {
      "cell_type": "code",
      "execution_count": 60,
      "metadata": {
        "id": "t_r3DqCuvhF1"
      },
      "outputs": [
        {
          "name": "stdout",
          "output_type": "stream",
          "text": [
            "A área do triangulo é : 500.0\n"
          ]
        }
      ],
      "source": [
        "def medidas(b,h):\n",
        "    formula = (b*h)/2\n",
        "    print(f\"A área do triangulo é : {formula}\")\n",
        "\n",
        "b=float(input(f\"Digite a medida da base :\"))\n",
        "h=float(input(f\"Digite a medida da altura : \"))\n",
        "medidas(b,h)\n",
        "\n",
        "\n"
      ]
    },
    {
      "cell_type": "markdown",
      "metadata": {},
      "source": [
        "# Exercício 08\n",
        "\n",
        "Faça uma lógica Python que  calcule a área de um trapézio passando os valores dos lados do trapézio através da função."
      ]
    },
    {
      "cell_type": "code",
      "execution_count": 72,
      "metadata": {},
      "outputs": [
        {
          "name": "stdout",
          "output_type": "stream",
          "text": [
            "A área do trapézio é : 900.0\n"
          ]
        }
      ],
      "source": [
        "def medidas(bmaior,bmenor,h):\n",
        "   \n",
        "\n",
        "    if (bmenor>bmaior):\n",
        "        print(\"ERRO\")\n",
        "    else:\n",
        "        formula = ((bmenor+bmaior)*h)/2\n",
        "        print(f\"A área do trapézio é : {formula}\")\n",
        "\n",
        "\n",
        "\n",
        "\n",
        "bmenor = float(input(\"Digite a medida da base menor :\"))\n",
        "bmaior = float(input(\"Digite a medida da base maior\"))\n",
        "h = float(input(\"Digite a medida da altura : \"))\n",
        "\n",
        "medidas(bmaior,bmenor,h)\n"
      ]
    },
    {
      "cell_type": "markdown",
      "metadata": {},
      "source": [
        "# Exercício 09\n",
        "\n",
        "\n",
        "Faça um programa que tenha uma função chamada contador(), que receba três parâmetros: início,fim e passo.Seu programa tem que realizar três contagens através da função criada:\n",
        "\n",
        "Exemplo:\n",
        "\n",
        "de 1 até 10,de 1 em 1;\n",
        "\n",
        "de 10 até 10,de 2 em 2;\n"
      ]
    },
    {
      "cell_type": "code",
      "execution_count": 86,
      "metadata": {},
      "outputs": [
        {
          "ename": "TabError",
          "evalue": "inconsistent use of tabs and spaces in indentation (660616501.py, line 3)",
          "output_type": "error",
          "traceback": [
            "\u001b[1;36m  File \u001b[1;32m\"C:\\Users\\aluno\\AppData\\Local\\Temp\\ipykernel_10944\\660616501.py\"\u001b[1;36m, line \u001b[1;32m3\u001b[0m\n\u001b[1;33m    print(i)\u001b[0m\n\u001b[1;37m            ^\u001b[0m\n\u001b[1;31mTabError\u001b[0m\u001b[1;31m:\u001b[0m inconsistent use of tabs and spaces in indentation\n"
          ]
        }
      ],
      "source": [
        "def contador(p1,p2,p3):\n",
        " for (i) in range(10):\n",
        "\tprint(i)\n"
      ]
    }
  ],
  "metadata": {
    "colab": {
      "provenance": []
    },
    "kernelspec": {
      "display_name": "Python 3",
      "name": "python3"
    },
    "language_info": {
      "name": "python"
    }
  },
  "nbformat": 4,
  "nbformat_minor": 0
}
